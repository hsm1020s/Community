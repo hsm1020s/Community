{
 "cells": [
  {
   "cell_type": "raw",
   "id": "bb551af4",
   "metadata": {
    "ExecuteTime": {
     "end_time": "2024-03-28T22:57:15.981265Z",
     "start_time": "2024-03-28T22:57:15.971762Z"
    }
   },
   "source": [
    "한 프로젝트에서 PM이 자주 교체될수도 -> 능력문제, 커뮤니케이션문제로 \n",
    "\n",
    "좋은 PM은 스몰토크를 많이하는 편이다\n",
    "->가스라이팅은 아니며 ->사람이 거의 납득 가능한 수준까지 계속 설득?말? 을 한다 \n",
    "\n",
    "진정한고수->알고있어도 확인차 물어봄 \n",
    "\n",
    "사람에대한 해상도 높아질 필요가 있다\n",
    "성격간파\n",
    "커뮤니케이션방법 1대1 마다 다 다름\n",
    "\n",
    "회사와 나를 분리 하며 성장하자\n",
    "\n",
    "상품에대한 이해\n",
    "-> 애플과 LG의 노트북 램선택 예시를 들며 생산방식의 차이로 기획이 바뀐다.\n",
    "그래서 상품에 대한 이해도가 높아야한다.\n",
    "\n",
    "기획->잘 안되는 이유는?\n",
    "비용대비 효과높지않아서\n",
    "기술적으로 어렵거나 불가능\n",
    "시스템 구조적인 문제\n",
    "\n",
    "기획에서 뭔가 보여줘야 한다는 욕심? 이런마인드 자제해야할듯\n",
    "----------------------------------------------\n",
    "플젝에서 기획시 유사서비스 직접이용함\n",
    "-> 면세점 프로젝트에서 면세점을 갈수없으니  비행기예약까지 해봄-> 현장조사\n",
    "\n",
    "고객사 인터뷰를 계속 정리하고 팀과 공유\n",
    " \n",
    "기획시 비용대비효율 \n",
    "-> 의사결정할떄 조금의 매출이라도 일으켜야 하는 임원이 있을수도\n",
    "-> 돈대비효율 고려하지않고 일단 해줘야함\n",
    "\n",
    "유대감 ->감정적인건지 드라이인지 체크하자\n",
    "녹음 동의받고  남겨서 문서로 남기고 다음날 다시 보고 체크하였다.\n",
    "\n",
    "서로의 영역이있다 (개발,디자인 등등)\n",
    "이건 명확히 건들지 말도록 해야겠다. \n",
    "\n",
    "팀마다 다른 용어정리->용어집 만든다.\n",
    "눈높이는-> 계속확인하기 (용어쪽)\n",
    "\n",
    "피그마 프로토타입 플로설명? (못들음)\n",
    "\n",
    "다 했는데 추가적인 요구사항이 계속 들어오면?\n",
    "붕어빵 가격 정찰제 이론으로 안된다고하기   천원당5개인데 10개달라고하면 줄수없다.\n",
    "\n",
    "지라 컨플루언스? -> 이걸로 협업 노력한다.\n",
    "\n",
    "인간관계가 중요하고 내편을 만들어 놓는게 중요하다\n",
    "\n",
    "."
   ]
  }
 ],
 "metadata": {
  "kernelspec": {
   "display_name": "Python 3 (ipykernel)",
   "language": "python",
   "name": "python3"
  },
  "language_info": {
   "codemirror_mode": {
    "name": "ipython",
    "version": 3
   },
   "file_extension": ".py",
   "mimetype": "text/x-python",
   "name": "python",
   "nbconvert_exporter": "python",
   "pygments_lexer": "ipython3",
   "version": "3.11.5"
  },
  "toc": {
   "base_numbering": 1,
   "nav_menu": {},
   "number_sections": true,
   "sideBar": true,
   "skip_h1_title": false,
   "title_cell": "Table of Contents",
   "title_sidebar": "Contents",
   "toc_cell": false,
   "toc_position": {},
   "toc_section_display": true,
   "toc_window_display": false
  }
 },
 "nbformat": 4,
 "nbformat_minor": 5
}
